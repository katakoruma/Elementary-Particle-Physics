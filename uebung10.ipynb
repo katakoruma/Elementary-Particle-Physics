{
 "cells": [
  {
   "cell_type": "markdown",
   "metadata": {},
   "source": [
    "<div>\n",
    "    <img alt=\"Logo\" src=\"https://www.institut3b.physik.rwth-aachen.de/global/show_picture.asp?id=aaaaaaaaaaivgdp\" style=\"float: right;height: 5em;\">\n",
    "</div>\n",
    "\n",
    "# Elementarteilchenphysik (SS 2021)\n",
    "\n",
    "apl. Prof. Dr. St. Roth, Dr. A. Nowack\\\n",
    "Physikzentrum, Raum 28 A 223, Tel.: 80-27282, eMail: nowack@physik.rwth-aachen.de "
   ]
  },
  {
   "cell_type": "markdown",
   "metadata": {},
   "source": [
    "# Übung 10\n",
    "\n",
    "Ausgabe: 7.7.2021\\\n",
    "Abgabe: 14.7.2021\n",
    " \n"
   ]
  },
  {
   "cell_type": "markdown",
   "metadata": {},
   "source": [
    "## Generelle Aufgabe: Monte-Carlo-Simulation eines Zählrohrs\n",
    "\n",
    "Entwerfen Sie eine Monte-Carlo-Simulation, um die Effizienz eines\n",
    "Zählrohrs zu bestimmen. Überprüfen Sie Ihre einzelnen\n",
    "Simulationsschritte, indem Sie geeignete Größen graphisch darstellen,\n",
    "z.B. in Form von ein- oder zweidimensionalen Histogrammen.\n",
    "\n",
    "Der Aufbau der Versuchsanordnung ist der\n",
    "Skizze zu entnehmen ($d=10\\text{ cm}$, $r=5\\text{ cm}$, $l=20\\text{ cm}$):\n",
    "![Versuchsaufbau Zählrohr](mc-zaehlrohr.svg)\n",
    "\n",
    "Hinweise:\n",
    "* Die folgenden Aufgaben bauen aufeinander auf und stützen sich auf die Ergebnisse der vorherigen.\n",
    "* Am Ende des Arbeitsblattes finden Sie ein Beispiel zur Monte-Carlo-Method und zur graphischen Darstellung der Ergebnisse."
   ]
  },
  {
   "cell_type": "markdown",
   "metadata": {},
   "source": [
    "## Aufgabe 1: Gleichverteilung auf einer Kugel\n",
    "\n",
    "Entwickeln Sie eine Routine, die die Richtung der emittierten\n",
    "Teilchen gleichverteilt in alle Raumrichtungen simuliert.\n",
    "\n",
    "Überprüfen Sie die Gleichverteilung mittels eines geeigneten\n",
    "Diagramms."
   ]
  },
  {
   "cell_type": "code",
   "execution_count": 14,
   "metadata": {},
   "outputs": [
    {
     "data": {
      "application/vnd.jupyter.widget-view+json": {
       "model_id": "ae5e5c5b87494c6f911bc3f16a9b9f3a",
       "version_major": 2,
       "version_minor": 0
      },
      "text/plain": [
       "Canvas(toolbar=Toolbar(toolitems=[('Home', 'Reset original view', 'home', 'home'), ('Back', 'Back to previous …"
      ]
     },
     "metadata": {},
     "output_type": "display_data"
    },
    {
     "data": {
      "application/vnd.jupyter.widget-view+json": {
       "model_id": "5c774647b2d8418099d1a8d4bbfbe14f",
       "version_major": 2,
       "version_minor": 0
      },
      "text/plain": [
       "Canvas(toolbar=Toolbar(toolitems=[('Home', 'Reset original view', 'home', 'home'), ('Back', 'Back to previous …"
      ]
     },
     "metadata": {},
     "output_type": "display_data"
    },
    {
     "data": {
      "text/plain": [
       "<function matplotlib.pyplot.show(*args, **kw)>"
      ]
     },
     "execution_count": 14,
     "metadata": {},
     "output_type": "execute_result"
    }
   ],
   "source": [
    "# Enabling the `widget` backend. This requires jupyter-matplotlib a.k.a. ipympl. ipympl can be install via pip or conda.\n",
    "%matplotlib widget\n",
    "\n",
    "import random as rd\n",
    "import matplotlib.pyplot as plt\n",
    "import sympy as sy\n",
    "import numpy as np\n",
    "\n",
    "phi, theta, = [],[]\n",
    "\n",
    "for i in range(1000000):\n",
    "    phi.append(rd.uniform(0,2*np.pi))\n",
    "    #theta.append(np.arccos(1-2*rd.uniform(0,1)))\n",
    "    theta.append(rd.uniform(0,np.pi))\n",
    "\n",
    "#print(Phi)\n",
    "plt.figure(figsize=(10,7))\n",
    "plt.title('Winkelverteilung der Flugrichtung in Kugelkoordinaten' )\n",
    "plt.hist(phi,bins='auto',label = 'Phi')\n",
    "plt.hist(theta,bins='auto',label = 'Theta')\n",
    "plt.xlabel('Winkel / rad')\n",
    "plt.ylabel('Ereignisse')\n",
    "plt.legend()\n",
    "plt.show\n",
    "\n",
    "x = np.sin(theta) * np.cos(phi)\n",
    "y = np.sin(theta) * np.sin(phi)\n",
    "z = np.cos(theta)\n",
    "\n",
    "plt.figure(figsize=(10,7))\n",
    "plt.title('Verteilung der kartesischen Flugrichtungskomponenten' )\n",
    "plt.hist(x+1,bins='auto', label = 'x-Komponente (um 1 nach rechts verschoben)')\n",
    "plt.hist(y+3,bins='auto', label = 'y-Komponente (um 3 nach rechts verschoben)')\n",
    "plt.hist(z+5,bins='auto', label = 'z-Komponente (um 5 nach rechts verschoben)')\n",
    "plt.xlabel('Normalenkomponente (verschoben)')\n",
    "plt.ylabel('Ereignisse')\n",
    "plt.legend(loc = \"lower right\")\n",
    "plt.show"
   ]
  },
  {
   "cell_type": "markdown",
   "metadata": {},
   "source": [
    "## Aufgabe 2: Nachweiswahrscheinlichkeit für Elektronen im Zählrohr\n",
    "Simulieren Sie den Nachweis von Teilchen (z.B. Elektronen), bei denen die\n",
    "Nachweiswahrscheinlichkeit eins beträgt, sofern das Zählrohr vom\n",
    "Teilchen getroffen wurde. Berechnen Sie damit die\n",
    "Nachweiswahrscheinlichkeit des Aufbaus **inklusive Fehler**.\n",
    "\n",
    "Plotten Sie die Flugrichtungen der Teilchen, die das Zählrohr\n",
    "erreichen. Erstellen Sie ein Histogramm der Strecken $a$. Stellen Sie\n",
    "ferner den Zusammenhang zwischen $a$ und der Flugrichtung graphisch dar. "
   ]
  },
  {
   "cell_type": "code",
   "execution_count": 15,
   "metadata": {},
   "outputs": [
    {
     "data": {
      "application/vnd.jupyter.widget-view+json": {
       "model_id": "cc871603aa2b40b38f4396d01f194d25",
       "version_major": 2,
       "version_minor": 0
      },
      "text/plain": [
       "Canvas(toolbar=Toolbar(toolitems=[('Home', 'Reset original view', 'home', 'home'), ('Back', 'Back to previous …"
      ]
     },
     "metadata": {},
     "output_type": "display_data"
    },
    {
     "name": "stdout",
     "output_type": "stream",
     "text": [
      "Simulierte Wahrscheinlichkeit: ( 5.267  +-  0.01 ) % \n",
      "Analytische Wahrscheinlichkeit:  5.279 % \n"
     ]
    },
    {
     "data": {
      "application/vnd.jupyter.widget-view+json": {
       "model_id": "6ee542ce6ff64c988b97acf5014a3328",
       "version_major": 2,
       "version_minor": 0
      },
      "text/plain": [
       "Canvas(toolbar=Toolbar(toolitems=[('Home', 'Reset original view', 'home', 'home'), ('Back', 'Back to previous …"
      ]
     },
     "metadata": {},
     "output_type": "display_data"
    },
    {
     "data": {
      "application/vnd.jupyter.widget-view+json": {
       "model_id": "32a154ee89374859ae0870c5db9db8d8",
       "version_major": 2,
       "version_minor": 0
      },
      "text/plain": [
       "Canvas(toolbar=Toolbar(toolitems=[('Home', 'Reset original view', 'home', 'home'), ('Back', 'Back to previous …"
      ]
     },
     "metadata": {},
     "output_type": "display_data"
    },
    {
     "data": {
      "text/plain": [
       "<function matplotlib.pyplot.show(*args, **kw)>"
      ]
     },
     "execution_count": 15,
     "metadata": {},
     "output_type": "execute_result"
    }
   ],
   "source": [
    "%matplotlib widget\n",
    "\n",
    "import random as rd\n",
    "import matplotlib.pyplot as plt\n",
    "import sympy as sy\n",
    "import numpy as np\n",
    "\n",
    "x = sy.Symbol('x')\n",
    "\n",
    "\n",
    "phi, theta, thetaS, a  = [],[],[],[]\n",
    "\n",
    "theta = np.linspace(0,np.arctan(1/2), 100)\n",
    "\n",
    "for i in range(len(theta)):\n",
    "    if theta[i] <= np.arctan(1/2):\n",
    "        thetaS.append(theta[i])\n",
    "        \n",
    "        if theta[i] < np.arctan(1/6):\n",
    "            a.append(20/np.cos(theta[i]))\n",
    "        if theta[i] > np.arctan(1/6):\n",
    "            a.append(5 / (np.tan(theta[i]) * np.cos(theta[i])) - 10 / np.cos(theta[i]) )\n",
    "            \n",
    "            \n",
    "plt.figure(figsize=(10,7))\n",
    "plt.plot(thetaS,a)\n",
    "plt.title('Laufstrecke a in Abhängigkeit von Theta')\n",
    "plt.xlabel('Theta / rad')\n",
    "plt.ylabel('a / cm')\n",
    "plt.show\n",
    "       \n",
    "\n",
    "phi, theta, thetaS, a  = [],[],[],[]     \n",
    "\n",
    "for i in range(5000000):\n",
    "    theta.append(np.arccos(1-2*rd.uniform(0,1)))\n",
    "    #theta.append(rd.uniform(0,np.pi))\n",
    "    \n",
    "    if theta[i] < np.arctan(1/2):\n",
    "        thetaS.append(theta[i])\n",
    "        \n",
    "        if theta[i] < np.arctan(1/6):\n",
    "            a.append(20/np.cos(theta[i]))\n",
    "        if theta[i] > np.arctan(1/6):\n",
    "            a.append(5 / np.sin(theta[i]) - 10 / np.cos(theta[i]) )\n",
    "    \n",
    "nump = len(thetaS)/len(theta)\n",
    "anp = float(sy.integrate(sy.integrate(sy.sin(x),(x,0,sy.atan(1/2))),(x,0,2*np.pi)) / (4*np.pi))\n",
    "\n",
    "#ep = sy.sqrt((sy.integrate(x**2 * sy.sin(x)/2,(x,0,np.pi)) - sy.integrate(x * sy.sin(x)/2,(x,0,np.pi))**2) /len(theta))\n",
    "#ep = np.sqrt( 1/(len(theta)*(len(theta)-1)) * (len(thetaS) * (1-anp)**2  + (len(theta)-len(thetaS)) * anp**2 ))\n",
    "ep = np.sqrt(nump * (1-nump)) / np.sqrt(len(theta))\n",
    "\n",
    "print(\"Simulierte Wahrscheinlichkeit: (\",round(nump*100,3), ' +- ',round(ep*100,3), \") % \")\n",
    "print(\"Analytische Wahrscheinlichkeit: \",round(anp*100,3), \"% \")\n",
    "\n",
    "plt.figure(figsize=(10,7))\n",
    "plt.hist(a, bins = 'auto')\n",
    "plt.title('Anzahl detektierter Teilchen nach Laufstrecke a')\n",
    "plt.xlabel('a / cm')\n",
    "plt.ylabel('Ereignisse')\n",
    "plt.show\n",
    "\n",
    "plt.figure(figsize=(10,7))\n",
    "plt.hist(theta, bins = int(round(20 * np.pi/np.arctan(1/2))), label = 'Teilchen gesamt')\n",
    "plt.hist(thetaS, bins = 20, label = 'detektierte Teilchen')\n",
    "plt.title('Anteil detektierter Teilchen')\n",
    "plt.xlabel('Theta / rad')\n",
    "plt.ylabel('Ereignisse')\n",
    "plt.legend()\n",
    "plt.show"
   ]
  },
  {
   "cell_type": "markdown",
   "metadata": {},
   "source": [
    "## Aufgabe 3: Nachweiswahrscheinlichkeit für Photonen im Zählrohr\n",
    "\n",
    "Bestimmen Sie nun analog zu Aufgabe&nbsp;2 die \n",
    "Nachweiswahrscheinlichkeit der Versuchsanordnung\n",
    "für solche Teilchen (Photonen), die mitunter das Zählrohr passieren können,\n",
    "ohne nachgewiesen zu werden. Dabei lösen im Mittel die Hälfte der\n",
    "Teilchen innerhalb einer Strecke von 10&nbsp;cm im Zählrohr dort ein Signal\n",
    "aus. Welches Gesetz ist hier gemeint?\n",
    "\n",
    "Wie verändern sich die Verteilungen, die in Aufgabe&nbsp;2 betrachtet wurden, wenn Sie nun im Zählrohr die Flugstrecke der Photonen bis zur Absorption betrachten?"
   ]
  },
  {
   "cell_type": "code",
   "execution_count": null,
   "metadata": {},
   "outputs": [],
   "source": [
    "%matplotlib widget\n",
    "\n",
    "import random as rd\n",
    "import matplotlib.pyplot as plt\n",
    "import sympy as sy\n",
    "import numpy as np\n",
    "\n",
    "x = sy.Symbol('x')\n",
    "\n",
    "\n",
    "phi, theta, thetaS, a, event,eventth  = [],[],[],[],[],[]\n",
    "\n",
    "for i in range(5000000):\n",
    "    theta.append(np.arccos(1-2*rd.uniform(0,1)))\n",
    "    #theta.append(rd.uniform(0,np.pi))\n",
    "    \n",
    "    if theta[i] < np.arctan(1/2):\n",
    "        thetaS.append(theta[i])\n",
    "        \n",
    "        if theta[i] < np.arctan(1/6):\n",
    "            a.append(20/np.cos(theta[i]))\n",
    "        elif theta[i] > np.arctan(1/6):\n",
    "            a.append(5 / np.sin(theta[i]) - 10 / np.cos(theta[i]) )\n",
    "            \n",
    "        r = rd.expovariate(np.log(2)/10)        \n",
    "        if a[-1] > r:\n",
    "            event.append(a[-1])\n",
    "            eventth.append(theta[i])\n",
    "    \n",
    "nump = len(thetaS)/len(theta)\n",
    "eventp = len(event)/len(theta)\n",
    "part = len(event)/len(thetaS)\n",
    "\n",
    "eventerr = np.sqrt(eventp * (1-eventp)) / np.sqrt(len(theta))\n",
    "parterr =  np.sqrt(part * (1-part)) / np.sqrt(len(thetaS))\n",
    "\n",
    "print(\"Simulierte Wahrscheinlichkeit: \",round(nump*100,3), \"% \")\n",
    "print(\"Anteil der ereignisausloesenden Photonen insgesamt: (\",round(eventp*100,3), ' +- ',round(eventerr*100,3), \") % \")\n",
    "print(\"Anteil der ereignisausloesenden Photonen in Zaehlrohr: (\",round(part*100,3), ' +- ',round(parterr*100,3), \") % \")\n",
    "\n",
    "\n",
    "plt.figure(figsize=(10,7))\n",
    "plt.hist(a, bins = 50, label = 'Teilchen, die Detektor passieren')\n",
    "plt.hist(event, bins = 50, label = 'Teilchen, die Reaktion ausloesen')\n",
    "plt.title('Anzahl detektierter Teilchen nach Laufstrecke a')\n",
    "plt.xlabel('a / cm')\n",
    "plt.ylabel('Ereignisse')\n",
    "plt.legend()\n",
    "plt.show\n",
    "\n",
    "plt.figure(figsize=(10,7))\n",
    "plt.hist(theta, bins = int(round(20 * np.pi/np.arctan(1/2))), label = 'Teilchen gesamt')\n",
    "plt.hist(eventth, bins = 20, label = 'detektierte Teilchen')\n",
    "plt.title('Anteil detektierter Teilchen')\n",
    "plt.xlabel('Theta / rad')\n",
    "plt.ylabel('Ereignisse')\n",
    "plt.legend()\n",
    "plt.show"
   ]
  },
  {
   "cell_type": "markdown",
   "metadata": {},
   "source": [
    "## Programmbeispiel: Zufallszahlen und Histogramme\n",
    "\n",
    "Die folgenden Codeblöcke dienen als Beispiel für\n",
    "die Verwendung von Zufallszahlen und für die Erzeugung von Histogrammen.\n",
    "\n",
    "Es werden zufällige Punkte in der Ebene erzeugt. Je nachdem, ob ein Punkt\n",
    "innerhalb eines Kreises liegt, wird er als Treffer („hit“) oder als Fehlschlag („miss“)\n",
    "gewertet. Mit dieser Methode kann die Kreiszahl $\\pi$ angenähert werden.\n",
    "\n",
    "Die Verteilungen von Treffern und Fehlschlägen werden in zweidimmensionalen Histogrammen dargestellt. \n",
    "Ferner wird für alle Treffer ein Histogramm der x-Werte erstellt."
   ]
  },
  {
   "cell_type": "code",
   "execution_count": 5,
   "metadata": {},
   "outputs": [],
   "source": [
    "# Enabling the `widget` backend. This requires jupyter-matplotlib a.k.a. ipympl. ipympl can be install via pip or conda.\n",
    "%matplotlib widget\n",
    "\n",
    "import time\n",
    "from   array import array\n",
    "import math\n",
    "import random as rd\n",
    "import sympy as sy\n",
    "import matplotlib.pyplot as plt"
   ]
  },
  {
   "cell_type": "markdown",
   "metadata": {},
   "source": [
    "Simulationsparameter festlegen:"
   ]
  },
  {
   "cell_type": "code",
   "execution_count": 6,
   "metadata": {},
   "outputs": [],
   "source": [
    "n_dice = 10000      # Anzahl der gewürfelten Punkte\n",
    "\n",
    "r = 4                # Radius des Kreises\n",
    "\n",
    "xlabel  = \"x-Achse\"  # x-Achsenbeschriftung\n",
    "x_range = [-5., 5.]  # Bereich der x-Werte\n",
    "nbinsx  = 40         # Anzahl der Bins in x-Richtung\n",
    "\n",
    "ylabel  = \"y-Achse\"  # y-Achsenbeschriftung\n",
    "y_range = [-5., 5.]  # Bereich der y-Werte\n",
    "nbinsy  = 40         # Anzahl der Bins in y-Richtung"
   ]
  },
  {
   "cell_type": "markdown",
   "metadata": {},
   "source": [
    "Arrays für Treffer und Fehlschläge vorbereiten:"
   ]
  },
  {
   "cell_type": "code",
   "execution_count": 7,
   "metadata": {},
   "outputs": [],
   "source": [
    "xhit  = array('f')\n",
    "yhit  = array('f')\n",
    "xmiss = array('f')\n",
    "ymiss = array('f')   "
   ]
  },
  {
   "cell_type": "markdown",
   "metadata": {},
   "source": [
    "Zufallszahlen würfeln und in passende Listen sortieren:"
   ]
  },
  {
   "cell_type": "code",
   "execution_count": 8,
   "metadata": {},
   "outputs": [],
   "source": [
    "start = time.time()    # Zeitmessung starten\n",
    "\n",
    "for i in range( n_dice ):\n",
    "    x = rd.uniform(x_range[0],x_range[1])\n",
    "    y = rd.uniform(y_range[0],y_range[1])\n",
    "        \n",
    "    # Treffer?\n",
    "    if (x**2+ y**2 <= r**2): ### im Kreis?\n",
    "        xhit.append(x)\n",
    "        yhit.append(y)\n",
    "    else:\n",
    "        xmiss.append(x)\n",
    "        ymiss.append(y)\n",
    "\n",
    "end = time.time()      # Zeitmessung beenden\n",
    "runtime = end - start  # Laufzeit bestimmen"
   ]
  },
  {
   "cell_type": "markdown",
   "metadata": {},
   "source": [
    "Statistik:"
   ]
  },
  {
   "cell_type": "code",
   "execution_count": 9,
   "metadata": {},
   "outputs": [
    {
     "name": "stdout",
     "output_type": "stream",
     "text": [
      "Laufzeit         : 0.016611 s\n",
      "Hits             : 5008\n",
      "Misses           : 4992\n",
      "Schätzwert für pi: 3.13\n"
     ]
    }
   ],
   "source": [
    "print(\"Laufzeit         : %f s\" % runtime)\n",
    "print(\"Hits             :\", len(xhit))\n",
    "print(\"Misses           :\", len(xmiss))\n",
    "print(\"Schätzwert für pi:\", len(xhit)/r**2 / ((len(xhit) + len(xmiss)) / ( (x_range[1] - x_range[0]) * (y_range[1] - y_range[0]) )))"
   ]
  },
  {
   "cell_type": "markdown",
   "metadata": {},
   "source": [
    "Plots erstellen:\n",
    "* zwei 2d-Histogramme nebeneinander: links alle Treffer, rechts alle Fehlschläge"
   ]
  },
  {
   "cell_type": "code",
   "execution_count": 10,
   "metadata": {},
   "outputs": [
    {
     "data": {
      "application/vnd.jupyter.widget-view+json": {
       "model_id": "7741b10ab7514a909f14b0bf61c66194",
       "version_major": 2,
       "version_minor": 0
      },
      "text/plain": [
       "Canvas(toolbar=Toolbar(toolitems=[('Home', 'Reset original view', 'home', 'home'), ('Back', 'Back to previous …"
      ]
     },
     "metadata": {},
     "output_type": "display_data"
    }
   ],
   "source": [
    "fig, (ax1, ax2) = plt.subplots(1, 2, sharey=True)                         # zwei Plots nebeneinander mit gemeinsamer y-Achse\n",
    "\n",
    "# Treffer in 2d-Historgramm plotten\n",
    "ax1.hist2d(xhit,  yhit,  bins=[nbinsx, nbinsy], range=[x_range, y_range]) # 2d-Histogramm erstellen\n",
    "ax1.set_title(\"Hits\")                                                     # Überschrift\n",
    "ax1.set_xlabel(xlabel)                                                    # x-Achsenbeschriftung\n",
    "ax1.set_ylabel(ylabel)                                                    # y-Achsenbeschriftung\n",
    "\n",
    "# Fehlschläge in 2d-Histogramm plotten\n",
    "ax2.hist2d(xmiss, ymiss, bins=[nbinsx, nbinsy], range=[x_range, y_range]) # 2d-Histogramm erstellen\n",
    "ax2.set_title(\"Misses\")                                                   # Überschrift\n",
    "ax2.set_xlabel(xlabel)                                                    # x-Achsenbeschriftung\n",
    "# y-Achse ist für beide Plots gemeinsam\n",
    "\n",
    "fig.suptitle(\"Monte-Carlo-Simulation: test n=%d\" % n_dice)                # Überschrift für beide Plots \n",
    "plt.show()                                                                # Plot darstellen\n",
    "\n",
    "#plt.savefig(\"mc_test_hitnmiss_n_%d.png\" % n_dice)                        # Plot als PNG speichern"
   ]
  },
  {
   "cell_type": "markdown",
   "metadata": {},
   "source": [
    "* 1d-Histogramm mit Fehlerbalken"
   ]
  },
  {
   "cell_type": "code",
   "execution_count": 11,
   "metadata": {},
   "outputs": [
    {
     "data": {
      "application/vnd.jupyter.widget-view+json": {
       "model_id": "52d514fbd2364ed3a9a8cf8b439f65c5",
       "version_major": 2,
       "version_minor": 0
      },
      "text/plain": [
       "Canvas(toolbar=Toolbar(toolitems=[('Home', 'Reset original view', 'home', 'home'), ('Back', 'Back to previous …"
      ]
     },
     "metadata": {},
     "output_type": "display_data"
    }
   ],
   "source": [
    "plt.figure()                                                                # neue Abbildung\n",
    "counts, bin_edges, patches = plt.hist(xhit, bins=nbinsx, range=x_range)     # Histogramm erzeugen\n",
    "countserror = counts**.5                                                    # Fehler für jedes Bin berechnen (Wurzel(n))\n",
    "bin_centers = (bin_edges[1:] + bin_edges[:-1])/2.                           # Zentren der Bins\n",
    "plt.errorbar(bin_centers, counts, yerr=countserror, ecolor='red', fmt='_k') # Fehlerbalken zeichnen\n",
    "plt.xlim(bin_edges[0], bin_edges[-1])                                       # Bereich der x-Achse wählen\n",
    "plt.xlabel(xlabel)                                                          # x-Achsenbeschriftung\n",
    "plt.ylabel(\"Anzahl\")                                                        # y-Achsenbeschriftung\n",
    "plt.show()                                                                  # Plot anzeigen\n",
    "#plt.savefig(\"mc_test_dist_x_n_%d.png\" % n_dice)                            # Plot als PNG speichern"
   ]
  },
  {
   "cell_type": "code",
   "execution_count": null,
   "metadata": {},
   "outputs": [],
   "source": []
  }
 ],
 "metadata": {
  "kernelspec": {
   "display_name": "Python 3 (ipykernel)",
   "language": "python",
   "name": "python3"
  },
  "language_info": {
   "codemirror_mode": {
    "name": "ipython",
    "version": 3
   },
   "file_extension": ".py",
   "mimetype": "text/x-python",
   "name": "python",
   "nbconvert_exporter": "python",
   "pygments_lexer": "ipython3",
   "version": "3.7.4"
  }
 },
 "nbformat": 4,
 "nbformat_minor": 4
}
