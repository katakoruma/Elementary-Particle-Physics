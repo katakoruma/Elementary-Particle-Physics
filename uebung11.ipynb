{
 "cells": [
  {
   "cell_type": "markdown",
   "metadata": {},
   "source": [
    "<div>\n",
    "    <img alt=\"Logo\" src=\"https://www.institut3b.physik.rwth-aachen.de/global/show_picture.asp?id=aaaaaaaaaaivgdp\" style=\"float: right;height: 5em;\">\n",
    "</div>\n",
    "\n",
    "# Elementarteilchenphysik (SS 2021)\n",
    "\n",
    "apl. Prof. Dr. St. Roth, Dr. A. Nowack\\\n",
    "Physikzentrum, Raum 28 A 223, Tel.: 80-27282, eMail: nowack@physik.rwth-aachen.de "
   ]
  },
  {
   "cell_type": "markdown",
   "metadata": {},
   "source": [
    "# Übung 11\n",
    "\n",
    "Ausgabe: 14.7.2021\\\n",
    "Abgabe: 21.7.2021\n",
    " \n"
   ]
  },
  {
   "cell_type": "markdown",
   "metadata": {},
   "source": [
    "## Aufgabe 1*: Monte-Carlo-Simulation der Myonpaarerzeugung (freiwillig)\n",
    "\n",
    "Betrachten Sie die Myonpaarerzeugung $e^+\\,e^- \\longrightarrow\n",
    "\\mu^+\\,\\mu^-$ im Grenzfall hoher Energien ($E \\gg m_e,\\,m_\\mu$).\n",
    "\n",
    "* Simulieren Sie die Richtungen von $\\mu^-$ und $\\mu^+$ gemäß des bekannten differentiellen Wirkungsquerschnitts.\n",
    "* Überprüfen Sie, ob die Richtungen den Erwartungen entsprechen, indem Sie passende Histrogramme erstellen.\n",
    "* Bestimmen Sie, wie viele Simulationsereignisse erforderlich sind, um eine gute Übereinstimmung mit den Erwartungen zu erreichen."
   ]
  },
  {
   "cell_type": "code",
   "execution_count": 2,
   "metadata": {},
   "outputs": [
    {
     "name": "stdout",
     "output_type": "stream",
     "text": [
      "Anzahl Ereignisse :  3332580\n",
      "Anteil Ereignisse :  66.65  %\n",
      "[2446.1024756036704, 70.71067811865476, 0.9784409902414681, 0.0282842712474619]\n"
     ]
    },
    {
     "data": {
      "application/vnd.jupyter.widget-view+json": {
       "model_id": "f1f54041f96947dc9c944674438b79f5",
       "version_major": 2,
       "version_minor": 0
      },
      "text/plain": [
       "Canvas(toolbar=Toolbar(toolitems=[('Home', 'Reset original view', 'home', 'home'), ('Back', 'Back to previous …"
      ]
     },
     "metadata": {},
     "output_type": "display_data"
    },
    {
     "data": {
      "text/plain": [
       "<ErrorbarContainer object of 3 artists>"
      ]
     },
     "execution_count": 2,
     "metadata": {},
     "output_type": "execute_result"
    }
   ],
   "source": [
    "# Enabling the `widget` backend. This requires jupyter-matplotlib a.k.a. ipympl. ipympl can be install via pip or conda.\n",
    "\n",
    "%matplotlib widget\n",
    "\n",
    "import random as rd\n",
    "import matplotlib.pyplot as plt\n",
    "import numpy as np\n",
    "\n",
    "def error(x,N,interval):\n",
    "    return np.sqrt( N * np.pi/2 * (1/interval * np.sin(x) * (1 + np.cos(x)**2)/2) * ( 1 -  1/interval * np.sin(x) * (1 + np.cos(x)**2)/2) )\n",
    "\n",
    "def chisq(m,x,e):\n",
    "\n",
    "    chiq = 0\n",
    "\n",
    "    if len(m) != len(x) or len(m) != len(e) or len(e) != len(x):\n",
    "        raise ValueError(\"operands could not be broadcast together with shapes\", len(m), len(x),len(e))\n",
    "\n",
    "    for i in range(len(m)):\n",
    "\n",
    "        if e[i] != 0:\n",
    "            chiq += ((m[i]-x[i])/e[i])**2\n",
    "            #chiq += ((m[i]-x[i])/x[i])**2\n",
    "        else:\n",
    "            chiq += ((m[i]-x[i])/x[i])**2\n",
    "\n",
    "    return [chiq,np.sqrt(2*len(x)),chiq/len(x),np.sqrt(2/len(x))]\n",
    "\n",
    "\n",
    "\n",
    "N = 5 * 10**6\n",
    "interval = 2500\n",
    "c = 100\n",
    "\n",
    "theta, k = [],[]\n",
    "\n",
    "for i in range(N):\n",
    "\n",
    "    x,y = np.arccos(1-2*rd.uniform(0,1)),rd.uniform(0,2)\n",
    "\n",
    "    if y <= (1 + np.cos(x)**2 ):\n",
    "\n",
    "        theta.append(x)\n",
    "\n",
    "p = round(len(theta)*100/N,2)\n",
    "\n",
    "\n",
    "x = np.linspace(0,np.pi,interval+1)[0:interval] + np.pi/(2*interval)\n",
    "y1 = N * np.pi/2 * 1/interval * np.sin(x) * ((1 + np.cos(x)**2) / 2 )\n",
    "\n",
    "eb = error(x,N,interval)\n",
    "\n",
    "yu = y1 + eb\n",
    "yd = y1 - eb\n",
    "\n",
    "x3,y3,errorbar,hist3 = [],[],[],[]\n",
    "\n",
    "\n",
    "hist = np.histogram(theta,bins=interval)\n",
    "chiq = chisq(hist[0],y1,eb)\n",
    "\n",
    "for i in range(c):\n",
    "    x3.append(x[round(i*(len(x)-1)/(c-1))])\n",
    "    y3.append(y1[round(i*(len(y1)-1)/(c-1))])\n",
    "    hist3.append(hist[0][round(i*(len(hist[0])-1)/(c-1))])\n",
    "    errorbar.append(error(x3[-1],N,interval))\n",
    "\n",
    "print('Anzahl Ereignisse : ', len(theta))\n",
    "print('Anteil Ereignisse : ', p, ' %' )\n",
    "print(chiq)\n",
    "\n",
    "\n",
    "\n",
    "fig, plot_array = plt.subplots(2,1, figsize=(10,7), sharex=True, gridspec_kw={'height_ratios': [10, 2]})\n",
    "\n",
    "plot_array[0].hist(theta,bins=interval,label = 'Verteilung Ereignisse')\n",
    "plot_array[0].errorbar( x3,y3,yerr=errorbar, color= \"red\", fmt=\".\" )\n",
    "plot_array[0].plot(x,yu, color= \"red\", label = 'obere Grenze')\n",
    "plot_array[0].plot(x,yd, color= \"red\", label = 'untere Grenze')\n",
    "plot_array[0].plot(x,y1, color= \"lime\", label = 'Erwartung')\n",
    "\n",
    "plot_array[0].set_title('Winkelverteilung der Flugrichtung in Kugelkoordinaten' )\n",
    "plot_array[0].set_ylabel('Ereignisse')\n",
    "plot_array[0].legend(loc='best', fontsize=11)\n",
    "\n",
    "plot_array[1].axhline(y=0., color='black', linestyle='--')\n",
    "plot_array[1].set_xlabel('Theta / rad')\n",
    "plot_array[1].set_ylabel('Ereignisse')\n",
    "plot_array[1].errorbar(x3,hist3 - np.array(y3) , yerr=errorbar , color= \"red\", fmt=\".\")\n"
   ]
  },
  {
   "cell_type": "code",
   "execution_count": null,
   "metadata": {},
   "outputs": [],
   "source": []
  }
 ],
 "metadata": {
  "kernelspec": {
   "display_name": "Python 3 (ipykernel)",
   "language": "python",
   "name": "python3"
  },
  "language_info": {
   "codemirror_mode": {
    "name": "ipython",
    "version": 3
   },
   "file_extension": ".py",
   "mimetype": "text/x-python",
   "name": "python",
   "nbconvert_exporter": "python",
   "pygments_lexer": "ipython3",
   "version": "3.7.4"
  }
 },
 "nbformat": 4,
 "nbformat_minor": 4
}
