{
 "cells": [
  {
   "cell_type": "markdown",
   "metadata": {},
   "source": [
    "<div>\n",
    "    <img alt=\"Logo\" src=\"https://www.institut3b.physik.rwth-aachen.de/global/show_picture.asp?id=aaaaaaaaaaivgdp\" style=\"float: right;height: 5em;\">\n",
    "</div>\n",
    "\n",
    "# Elementarteilchenphysik (SS 2021)\n",
    "\n",
    "apl. Prof. Dr. St. Roth, Dr. A. Nowack\\\n",
    "Physikzentrum, Raum 28 A 223, Tel.: 80-27282, eMail: nowack@physik.rwth-aachen.de "
   ]
  },
  {
   "cell_type": "markdown",
   "metadata": {},
   "source": [
    "# Übung 2\n",
    "\n",
    "Ausgabe: 28.4.2021\\\n",
    "Abgabe: 5.5.2021\n",
    " \n"
   ]
  },
  {
   "cell_type": "markdown",
   "metadata": {},
   "source": [
    "## Aufgabe 1: Beweis\n",
    "\n",
    "Seien $\\vec{a}$ und $\\vec{b}$ übliche dreidimensionale Vektoren und $\\vec{\\sigma}$ der Vektor der Pauli-Matrizen.\n",
    "Verwenden Sie SymPy, um die Beziehung\n",
    "\\begin{equation*}\n",
    "  \\left(\\vec{\\sigma}\\cdot\\vec{a}\\right) \\left(\\vec{\\sigma}\\cdot\\vec{b}\\right)\n",
    "  = \\vec{a}\\cdot\\vec{b} + \\imath\\,\\vec{\\sigma}\\cdot\\left(\\vec{a}\\times\\vec{b}\\right)\n",
    "\\end{equation*}\n",
    "zu beweisen.\n",
    "\n",
    "Hinweise: \n",
    "* Ein dreidimensionaler Vektor lässt sich als $3\\times 1$-Matrix verstehen.  \n",
    "* Es gibt mehrere Möglichkeiten, Matrizen zu definieren. Siehe: https://docs.sympy.org/latest/modules/matrices/matrices.html#creating-matrices\n",
    "* Wenn man z.B. die $2\\times 2$-Matrizen `m1` und `m2` in eine $2\\times 1$-Matrix einbetten will, funktioniert `Matrix([[m1],[m2]])` **nicht**, weil dadurch eine $4\\times 2$-Matrix erstellt wird. Stattdessen funktioniert es, wenn man die Dimensionen der Matrix explizit angibt und `Matrix(2,1,[m1,m2])` verwendet. (In älteren SymPy-Versionen (z.B. Version 1.1.1 oder älter) war das Verhalten noch anders.)\n"
   ]
  },
  {
   "cell_type": "code",
   "execution_count": 2,
   "metadata": {},
   "outputs": [
    {
     "name": "stdout",
     "output_type": "stream",
     "text": [
      "⎡⎡0  1⎤ ⎤\n",
      "⎢⎢    ⎥ ⎥\n",
      "⎢⎣1  0⎦ ⎥\n",
      "⎢       ⎥\n",
      "⎢⎡0  -ⅈ⎤⎥\n",
      "⎢⎢     ⎥⎥\n",
      "⎢⎣ⅈ  0 ⎦⎥\n",
      "⎢       ⎥\n",
      "⎢⎡1  0 ⎤⎥\n",
      "⎢⎢     ⎥⎥\n",
      "⎣⎣0  -1⎦⎦\n",
      "\n",
      "\n",
      "⎡a₁⋅b₁ + ⅈ⋅a₁⋅b₂ - ⅈ⋅a₂⋅b₁ + a₂⋅b₂ + a₃⋅b₃     -a₁⋅b₃ + ⅈ⋅a₂⋅b₃ + a₃⋅b₁ - ⅈ⋅a₃\n",
      "⎢                                                                             \n",
      "⎣    a₁⋅b₃ + ⅈ⋅a₂⋅b₃ - a₃⋅b₁ - ⅈ⋅a₃⋅b₂      a₁⋅b₁ - ⅈ⋅a₁⋅b₂ + ⅈ⋅a₂⋅b₁ + a₂⋅b₂ \n",
      "\n",
      "⋅b₂    ⎤\n",
      "       ⎥\n",
      "+ a₃⋅b₃⎦\n",
      "\n",
      "\n",
      "⎡a₁⋅b₁ + ⅈ⋅a₁⋅b₂ - ⅈ⋅a₂⋅b₁ + a₂⋅b₂ + a₃⋅b₃     -a₁⋅b₃ + ⅈ⋅a₂⋅b₃ + a₃⋅b₁ - ⅈ⋅a₃\n",
      "⎢                                                                             \n",
      "⎣    a₁⋅b₃ + ⅈ⋅a₂⋅b₃ - a₃⋅b₁ - ⅈ⋅a₃⋅b₂      a₁⋅b₁ - ⅈ⋅a₁⋅b₂ + ⅈ⋅a₂⋅b₁ + a₂⋅b₂ \n",
      "\n",
      "⋅b₂    ⎤\n",
      "       ⎥\n",
      "+ a₃⋅b₃⎦\n",
      "\n",
      "\n",
      "True\n"
     ]
    }
   ],
   "source": [
    "from sympy import Matrix, pprint, I, ones, eye, expand, simplify\n",
    "from sympy.physics.matrices import msigma\n",
    "\n",
    "a = Matrix(3,1,['a1','a2','a3'])\n",
    "b = Matrix(3,1,['b1','b2','b3'])\n",
    "\n",
    "sigma = Matrix(3,1,[msigma(1),msigma(2),msigma(3)])\n",
    "\n",
    "pprint(sigma)\n",
    "print('\\n')\n",
    "\n",
    "lhs = sigma.dot(a) * sigma.dot(b)\n",
    "\n",
    "pprint(expand(lhs))\n",
    "print('\\n')\n",
    "\n",
    "rhs = eye(2) * a.dot(b) +  I * sigma.dot(a.cross(b))\n",
    "\n",
    "pprint(expand(rhs))\n",
    "print('\\n')\n",
    "\n",
    "print(lhs.equals(rhs))"
   ]
  },
  {
   "cell_type": "markdown",
   "metadata": {},
   "source": [
    "## Aufgabe 2: Pauli-Gleichung\n",
    "\n",
    "Für eine Elektron der Masse $m$ und der Ladung $q = -e$, das sich in\n",
    "einem elektromagnetischen Feld mit skalarem Potential $\\phi$ und\n",
    "Vektorpotential $\\vec{A}$ befindet, ergibt sich aus der\n",
    "Dirac-Gleichung die sog. Pauli-Gleichung inklusive der Wechselwirkung\n",
    "des magnetischen Moments des Elektrons mit dem Magnetfeld:\n",
    "\\begin{equation*}\n",
    "  \\imath\\,\\hbar\\frac{\\partial\\,\\varphi}{\\partial{t}} = \n",
    "    \\left[ \\frac{1}{2\\,m} \\left( -\\imath\\,\\hbar\\,\\vec{\\nabla} + e\\,\\vec{A}\\right)^2\n",
    "         + \\frac{e\\,\\hbar}{2m}\\,\\vec{\\sigma}\\cdot\\vec{B} - e\\,\\phi \\right]\\,\\varphi\n",
    "\\end{equation*}\n",
    "\n",
    "Leiten Sie die Pauli-Gleichung aus der Differentialgleichung für die „große“ Spinkomponente her:\n",
    "\\begin{equation*}\n",
    "\\imath\\,\\hbar\\,\\dot{\\varphi} = \\frac{1}{2\\,m}\n",
    "\\left(\\vec{\\sigma}\\cdot\\vec{P}\\right)\n",
    "\\left(\\vec{\\sigma}\\cdot\\vec{P}\\right) \\varphi + q\\,\\phi\\,\\varphi\n",
    "\\end{equation*}\n",
    "\n",
    "Wenden Sie dazu die Beziehung aus Aufgabe 1 für den Spezialfall\n",
    "\\begin{equation*}\n",
    "  \\vec{a} = \\vec{b} = \\vec{P} \\equiv -\\imath\\hbar\\,\\vec{\\nabla} + e\\,\\vec{A}\n",
    "\\end{equation*}\n",
    "an, und zeigen Sie damit, dass \n",
    "\\begin{equation*}\n",
    "  \\left(\\vec{\\sigma}\\cdot\\vec{P}\\right) \\left(\\vec{\\sigma}\\cdot\\vec{P}\\right)\n",
    "  = \\vec{P}^2 + e\\,\\hbar\\left(\\vec{\\sigma}\\cdot\\vec{B}\\right) \\quad \\text{mit } \\vec{B}=\\operatorname{rot} \\vec{A}\n",
    "\\end{equation*}\n",
    "gilt. \n",
    "\n",
    "Beachten Sie, dass $\\vec{P}$ ein Operator ist. Daher ist es schwierig bis unmöglich, dies mit SymPy berechnen zu lassen.\n",
    "<!-- \n",
    "Die Differentialgleichung finden Sie im Schmüser hier:\n",
    "* 1. Auflage: zweite Gleichung nach Gleichung 1.17 mit $\\vec{P}=\\vec{\\pi}$\n",
    "* 2. Auflage: zweite Gleichung nach Gleichung 1.24\n",
    "-->"
   ]
  },
  {
   "cell_type": "markdown",
   "metadata": {},
   "source": []
  }
 ],
 "metadata": {
  "kernelspec": {
   "display_name": "Python 3",
   "language": "python",
   "name": "python3"
  },
  "language_info": {
   "codemirror_mode": {
    "name": "ipython",
    "version": 3
   },
   "file_extension": ".py",
   "mimetype": "text/x-python",
   "name": "python",
   "nbconvert_exporter": "python",
   "pygments_lexer": "ipython3",
   "version": "3.7.4"
  }
 },
 "nbformat": 4,
 "nbformat_minor": 4
}
