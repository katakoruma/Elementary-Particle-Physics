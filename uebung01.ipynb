{
 "cells": [
  {
   "cell_type": "markdown",
   "metadata": {},
   "source": [
    "<div>\n",
    "    <img alt=\"Logo\" src=\"https://www.institut3b.physik.rwth-aachen.de/global/show_picture.asp?id=aaaaaaaaaaivgdp\" style=\"float: right;height: 5em;\">\n",
    "</div>\n",
    "\n",
    "# Elementarteilchenphysik (SS 2021)\n",
    "\n",
    "apl. Prof. Dr. St. Roth, Dr. A. Nowack\\\n",
    "Physikzentrum, Raum 28 A 223, Tel.: 80-27282, eMail: nowack@physik.rwth-aachen.de "
   ]
  },
  {
   "cell_type": "markdown",
   "metadata": {},
   "source": [
    "# Übung 1\n",
    "\n",
    "Ausgabe: 21.4.2021\\\n",
    "Abgabe: 28.4.2021\n",
    " \n"
   ]
  },
  {
   "cell_type": "markdown",
   "metadata": {},
   "source": [
    "## Aufgabe 1: Hallo Welt\n",
    "\n",
    "In Jupyter-Notebooks können Sie Python-Code interaktiv ausführen. Klicken Sie hierzu in den folgenden Code-Block und auf den <i class=\"fa fa-play\"></i>-Knopf (oder `Shift`+`Enter`)."
   ]
  },
  {
   "cell_type": "code",
   "execution_count": 1,
   "metadata": {},
   "outputs": [
    {
     "name": "stdout",
     "output_type": "stream",
     "text": [
      "Hallo Welt\n"
     ]
    }
   ],
   "source": [
    "print(\"Hallo Welt\")"
   ]
  },
  {
   "cell_type": "markdown",
   "metadata": {},
   "source": [
    "Durch das Ausführen mit dem <i class=\"fa fa-play\"></i>-Knopf wurde der Python-Code ausgeführt und die Ausgabe unter dem Code-Block dargestellt. \n",
    "\n",
    "Verändern Sie den obigen Code-Block, indem Sie \"Hello world\" durch \"Hallo Welt\" ersetzen, und führen Sie ihn erneut mit dem <i class=\"fa fa-play\"></i>-Knopf aus."
   ]
  },
  {
   "cell_type": "markdown",
   "metadata": {},
   "source": [
    "Schreiben Sie in den nächsten Block einen Code, der die Zahlen von 1 bis 10 ausgibt, und testen Sie ihn:"
   ]
  },
  {
   "cell_type": "code",
   "execution_count": 9,
   "metadata": {},
   "outputs": [
    {
     "name": "stdout",
     "output_type": "stream",
     "text": [
      "1\n",
      "2\n",
      "3\n",
      "4\n",
      "5\n",
      "6\n",
      "7\n",
      "8\n",
      "9\n",
      "10\n"
     ]
    }
   ],
   "source": [
    "for i in range(1,11):\n",
    "    print(i)"
   ]
  },
  {
   "cell_type": "markdown",
   "metadata": {},
   "source": [
    "## Aufgabe 2: Symbolisches Rechnen mit SymPy\n",
    "\n",
    "Innerhalb von Python kann man mittels der Bibliothek [_SymPy_](https://www.sympy.org) symbolische Berechnungen durchführen. Hier steht Version 1.8 zur Verfügung, deren Dokumentation unter https://docs.sympy.org/latest zu finden ist."
   ]
  },
  {
   "cell_type": "code",
   "execution_count": 10,
   "metadata": {},
   "outputs": [
    {
     "name": "stdout",
     "output_type": "stream",
     "text": [
      "SymPy-Version: 1.8\n"
     ]
    }
   ],
   "source": [
    "import sympy\n",
    "print(\"SymPy-Version: %s\" % sympy.__version__)"
   ]
  },
  {
   "cell_type": "markdown",
   "metadata": {},
   "source": [
    "Zunächst definieren wir eine $2 \\times 3$-Matrix mit SymPy:\n"
   ]
  },
  {
   "cell_type": "code",
   "execution_count": 11,
   "metadata": {},
   "outputs": [],
   "source": [
    "from sympy import Matrix\n",
    "\n",
    "m = Matrix([['m11','m12','m13'],['m21','m22','m23']])"
   ]
  },
  {
   "cell_type": "markdown",
   "metadata": {},
   "source": [
    "Im nächsten Schritt wird nun die Matrix `m` ausgegeben. Allerdings sind die reinen Textausgaben symbolischer Berechnungen zum Teil nur schwer zu lesen:"
   ]
  },
  {
   "cell_type": "code",
   "execution_count": 12,
   "metadata": {},
   "outputs": [
    {
     "name": "stdout",
     "output_type": "stream",
     "text": [
      "Matrix([[m11, m12, m13], [m21, m22, m23]])\n"
     ]
    }
   ],
   "source": [
    "print(m)"
   ]
  },
  {
   "cell_type": "markdown",
   "metadata": {},
   "source": [
    "Die Funktion `pprint` liefert schon bessere Ergebnisse, wenn auch die Formatierung nicht immer optimal ist:"
   ]
  },
  {
   "cell_type": "code",
   "execution_count": 13,
   "metadata": {},
   "outputs": [
    {
     "name": "stdout",
     "output_type": "stream",
     "text": [
      "⎡m₁₁  m₁₂  m₁₃⎤\n",
      "⎢             ⎥\n",
      "⎣m₂₁  m₂₂  m₂₃⎦\n"
     ]
    }
   ],
   "source": [
    "from sympy import pprint\n",
    "\n",
    "pprint(m)"
   ]
  },
  {
   "cell_type": "markdown",
   "metadata": {},
   "source": [
    "Man kann allerdings auch LaTeX-Code erzeugen und diesen im Notebook anzeigen lassen. Dazu werden die Funktionen `display` und `Markdown` verwendet, wobei `r` bedeutet, dass Backslashes (`\\`) in der folgenden Zeichenkette nicht als Escape-Zeichen interpretiert werden, und `f` führt dazu, dass dort, wo geschweifte Klammern stehen, das Ergebnis des genannten Befehls oder der Wert der genannten Variable eingesetzt wird:"
   ]
  },
  {
   "cell_type": "code",
   "execution_count": 14,
   "metadata": {},
   "outputs": [
    {
     "data": {
      "text/markdown": [
       "$\\left[\\begin{matrix}m_{11} & m_{12} & m_{13}\\\\m_{21} & m_{22} & m_{23}\\end{matrix}\\right]$"
      ],
      "text/plain": [
       "<IPython.core.display.Markdown object>"
      ]
     },
     "metadata": {},
     "output_type": "display_data"
    }
   ],
   "source": [
    "from sympy import latex\n",
    "from IPython.display import display, Markdown\n",
    "\n",
    "display(Markdown(rf\"${latex(m)}$\"))"
   ]
  },
  {
   "cell_type": "markdown",
   "metadata": {},
   "source": [
    "Die Variable `m` enthält eine $2 \\times 3$-Matrix, mit der man nun symbolisch rechnen kann. Geben Sie nun das Zweifache der Matrix `m` aus, indem Sie diese Fähigkeit ausnutzen:"
   ]
  },
  {
   "cell_type": "code",
   "execution_count": 72,
   "metadata": {},
   "outputs": [
    {
     "data": {
      "text/markdown": [
       "$\\left[\\begin{matrix}2 m_{11} & 2 m_{12} & 2 m_{13}\\\\2 m_{21} & 2 m_{22} & 2 m_{23}\\end{matrix}\\right]$"
      ],
      "text/plain": [
       "<IPython.core.display.Markdown object>"
      ]
     },
     "metadata": {},
     "output_type": "display_data"
    }
   ],
   "source": [
    "m = Matrix([['m11','m12','m13'],['m21','m22','m23']])\n",
    "\n",
    "m = 2 * m\n",
    "\n",
    "display(Markdown(rf\"${latex(m)}$\"))"
   ]
  },
  {
   "cell_type": "markdown",
   "metadata": {},
   "source": [
    "# Aufgabe 3: Vergleich von symbolischen Ausdrücken\n",
    "\n",
    "Bei SymPy ist generell Vorsicht bei der Verwendung des Gleichheitsoperators (`==`) geboten, wie man am Beispiel $\\left(x+1\\right) \\cdot \\left(x-1\\right) = x^2 - 1$ sehen kann:"
   ]
  },
  {
   "cell_type": "code",
   "execution_count": 24,
   "metadata": {},
   "outputs": [],
   "source": [
    "from sympy import Symbol\n",
    "\n",
    "x = Symbol(\"x\")\n",
    "lhs = (x+1)*(x-1)\n",
    "rhs = x**2-1"
   ]
  },
  {
   "cell_type": "markdown",
   "metadata": {},
   "source": [
    "Geben Sie nun das Ergebnis des Vergleichs `lhs == rhs` aus:"
   ]
  },
  {
   "cell_type": "code",
   "execution_count": 25,
   "metadata": {},
   "outputs": [
    {
     "data": {
      "text/plain": [
       "False"
      ]
     },
     "execution_count": 25,
     "metadata": {},
     "output_type": "execute_result"
    }
   ],
   "source": [
    "lhs == rhs"
   ]
  },
  {
   "cell_type": "markdown",
   "metadata": {},
   "source": [
    "Der Grund, warum der Vergleich *falsch* ergibt, liegt darin begründet, dass die Ausdrücke zwar mathematisch gleich sind, aber die Darstellungen unterschiedlich sind:"
   ]
  },
  {
   "cell_type": "code",
   "execution_count": 29,
   "metadata": {},
   "outputs": [
    {
     "name": "stdout",
     "output_type": "stream",
     "text": [
      "Linke Seite:\n",
      "(x - 1)⋅(x + 1)\n",
      "Rechte Seite:\n",
      " 2    \n",
      "x  - 1\n"
     ]
    }
   ],
   "source": [
    "print(\"Linke Seite:\")\n",
    "pprint(lhs)\n",
    "print(\"Rechte Seite:\")\n",
    "pprint(rhs)"
   ]
  },
  {
   "cell_type": "markdown",
   "metadata": {},
   "source": [
    "In solchen Fällen kann man die Differenz der Ausdrücke (`lhs-rhs`) auf Null testen. Geben Sie das Ergebnis dieses Tests aus:"
   ]
  },
  {
   "cell_type": "code",
   "execution_count": 30,
   "metadata": {},
   "outputs": [
    {
     "data": {
      "text/plain": [
       "False"
      ]
     },
     "execution_count": 30,
     "metadata": {},
     "output_type": "execute_result"
    }
   ],
   "source": [
    "lhs-rhs == 0"
   ]
  },
  {
   "cell_type": "markdown",
   "metadata": {},
   "source": [
    "Auch dies ergibt *falsch*, weil der Ausdruck noch nicht vereinfacht ist:"
   ]
  },
  {
   "cell_type": "code",
   "execution_count": 31,
   "metadata": {},
   "outputs": [
    {
     "name": "stdout",
     "output_type": "stream",
     "text": [
      "   2                      \n",
      "- x  + (x - 1)⋅(x + 1) + 1\n"
     ]
    }
   ],
   "source": [
    "pprint(lhs-rhs)"
   ]
  },
  {
   "cell_type": "markdown",
   "metadata": {},
   "source": [
    "Dazu kann man den Ausdruck entweder ausmultiplizieren (`expand`) oder vereinfachen (`simplify`):"
   ]
  },
  {
   "cell_type": "code",
   "execution_count": 32,
   "metadata": {},
   "outputs": [
    {
     "name": "stdout",
     "output_type": "stream",
     "text": [
      "0\n",
      "0\n"
     ]
    }
   ],
   "source": [
    "from sympy import expand, simplify\n",
    "\n",
    "pprint(expand(lhs-rhs))\n",
    "pprint(simplify(lhs-rhs))"
   ]
  },
  {
   "cell_type": "markdown",
   "metadata": {},
   "source": [
    "Nun können Sie die Gleichheit erfolgreich testen, indem Sie eines der Kommandos verwenden und das Ergebnis des Vergleichs ausgeben:"
   ]
  },
  {
   "cell_type": "code",
   "execution_count": 34,
   "metadata": {},
   "outputs": [
    {
     "data": {
      "text/plain": [
       "True"
      ]
     },
     "execution_count": 34,
     "metadata": {},
     "output_type": "execute_result"
    }
   ],
   "source": [
    "expand(lhs-rhs) == 0"
   ]
  },
  {
   "cell_type": "markdown",
   "metadata": {},
   "source": [
    "Eine andere Alternative besteht in der Verwendung der Methode `equals`. Damit können Sie zwei Ausdrücke `A` und `B` auf Gleichheit testen: `A.equals(B)`. Wenden Sie dies nun auf den obigen Fall an:"
   ]
  },
  {
   "cell_type": "code",
   "execution_count": 35,
   "metadata": {},
   "outputs": [
    {
     "data": {
      "text/plain": [
       "True"
      ]
     },
     "execution_count": 35,
     "metadata": {},
     "output_type": "execute_result"
    }
   ],
   "source": [
    "lhs.equals(rhs)"
   ]
  },
  {
   "cell_type": "markdown",
   "metadata": {},
   "source": [
    "## Aufgabe 4: Pauli-Matrizen\n",
    "\n",
    "Die Pauli-Matrizen sind\n",
    "\\begin{equation*}\n",
    "\\sigma_1 = \\begin{pmatrix} 0 & 1\\\\ 1 & 0 \\end{pmatrix}, \\qquad\n",
    "\\sigma_2 = \\begin{pmatrix} 0 & -\\imath\\\\ \\imath & 0 \\end{pmatrix}  \\qquad\\text{und}\\qquad\n",
    "\\sigma_3 = \\begin{pmatrix} 1 & 0\\\\ 0 & -1 \\end{pmatrix}.\n",
    "\\end{equation*}\n",
    "\n",
    "Für das Produkt zweier Matrizen gilt:\n",
    "\\begin{equation*}\n",
    "  \\sigma_i\\,\\sigma_j = \\imath\\,\\sum_{k=1}^3\\epsilon_{ijk}\\,\\sigma_k +\n",
    "  \\delta_{ij}\\,\\mathbb{1},\\quad i,j \\in \\left\\{1,2,3\\right\\}\n",
    "\\end{equation*}\n",
    "\n",
    "Verifizieren Sie diese Identitäten mit Hilfe von SymPy.\n",
    "\n",
    "Tipps: \n",
    "* SymPy beherrscht auch den Umgang mit Matrizen und stellt entsprechende Klassen und Funktionen bereit. Nutzen Sie von SymPy vordefinierte Funktionen für $\\sigma_i$, $\\epsilon_{ijk}$, $\\delta_{ij}$ und $\\mathbb{1}$.\n",
    "* Siehe auch:\n",
    "  * https://docs.sympy.org/latest/modules/physics/matrices.html\n",
    "  * https://docs.sympy.org/latest/modules/functions/special.html\n",
    "  * https://docs.sympy.org/latest/modules/matrices/matrices.html\n",
    "  * https://docs.sympy.org/latest/modules/core.html#sympy.core.numbers.ImaginaryUnit"
   ]
  },
  {
   "cell_type": "code",
   "execution_count": 64,
   "metadata": {},
   "outputs": [
    {
     "name": "stdout",
     "output_type": "stream",
     "text": [
      "1 1 True\n",
      "1 2 True\n",
      "1 3 True\n",
      "2 1 True\n",
      "2 2 True\n",
      "2 3 True\n",
      "3 1 True\n",
      "3 2 True\n",
      "3 3 True\n"
     ]
    }
   ],
   "source": [
    "from sympy.physics.matrices import msigma\n",
    "from sympy.matrices import Matrix, eye, zeros\n",
    "from sympy import I, sqrt, LeviCivita, KroneckerDelta\n",
    "\n",
    "for i in range(1,4):\n",
    "    for j in range(1,4):\n",
    "        lhs = msigma(i) * msigma(j)\n",
    "        rhs = zeros(2)\n",
    "        \n",
    "        for k in range(1,4):\n",
    "            rhs += I*(LeviCivita(i,j,k) * msigma(k))\n",
    "        rhs +=  KroneckerDelta(i, j) * eye(2)\n",
    "            \n",
    "        print(i,j,lhs.equals(rhs)) "
   ]
  },
  {
   "cell_type": "markdown",
   "metadata": {},
   "source": [
    "## Aufgabe 5: Matrizen $\\alpha_i$ und $\\beta$\n",
    "\n",
    "Zeigen Sie für die Matrizen\n",
    "\\begin{equation*}\n",
    "  \\alpha_i = \\begin{pmatrix} 0 & \\sigma_i\\\\ \\sigma_i & 0\n",
    "  \\end{pmatrix},\\quad i \\in \\left\\{1,2,3\\right\\}\n",
    "  \\qquad\\text{und}\\qquad\n",
    "  \\beta = \\begin{pmatrix} \\mathbb{1} & 0 \\\\ 0 & -\\mathbb{1}\\end{pmatrix},\n",
    "\\end{equation*}\n",
    "dass \n",
    "1. sie hermitesch sind,\n",
    "2. $\\alpha_i^2 = \\beta^2 = \\mathbb{1},\\; i \\in \\left\\{1,2,3\\right\\}$ gilt,\n",
    "3. $\\alpha_i\\,\\alpha_j + \\alpha_j\\,\\alpha_i = 0\\text{ für }i \\ne j,\\text{\n",
    "  sowie } \\alpha_i\\,\\beta + \\beta\\,\\alpha_i = 0$ gilt ($i,\\,j\\in\\left\\{1,2,3\\right\\}$).\n",
    "\n",
    "Nutzen Sie hierzu SymPy."
   ]
  },
  {
   "cell_type": "code",
   "execution_count": 140,
   "metadata": {},
   "outputs": [
    {
     "data": {
      "text/markdown": [
       "$\\left[ \\left[\\begin{matrix}0 & 0 & 0 & 1\\\\0 & 0 & 1 & 0\\\\0 & 1 & 0 & 0\\\\1 & 0 & 0 & 0\\end{matrix}\\right], \\  \\left[\\begin{matrix}0 & 0 & 0 & - i\\\\0 & 0 & i & 0\\\\0 & - i & 0 & 0\\\\i & 0 & 0 & 0\\end{matrix}\\right], \\  \\left[\\begin{matrix}0 & 0 & 1 & 0\\\\0 & 0 & 0 & -1\\\\1 & 0 & 0 & 0\\\\0 & -1 & 0 & 0\\end{matrix}\\right], \\  \\left[\\begin{matrix}1 & 0 & 0 & 0\\\\0 & 1 & 0 & 0\\\\0 & 0 & -1 & 0\\\\0 & 0 & 0 & -1\\end{matrix}\\right]\\right]$"
      ],
      "text/plain": [
       "<IPython.core.display.Markdown object>"
      ]
     },
     "metadata": {},
     "output_type": "display_data"
    },
    {
     "name": "stdout",
     "output_type": "stream",
     "text": [
      "\n",
      " zu 1 \n",
      "\n",
      "fuer i = 1 :  True\n",
      "fuer i = 2 :  True\n",
      "fuer i = 3 :  True\n",
      "fuer beta  :  True \n",
      "\n"
     ]
    },
    {
     "data": {
      "text/markdown": [
       "$\\left[ \\left[\\begin{matrix}0 & 0 & 0 & 1\\\\0 & 0 & 1 & 0\\\\0 & 1 & 0 & 0\\\\1 & 0 & 0 & 0\\end{matrix}\\right], \\  \\left[\\begin{matrix}0 & 0 & 0 & - i\\\\0 & 0 & i & 0\\\\0 & - i & 0 & 0\\\\i & 0 & 0 & 0\\end{matrix}\\right], \\  \\left[\\begin{matrix}0 & 0 & 1 & 0\\\\0 & 0 & 0 & -1\\\\1 & 0 & 0 & 0\\\\0 & -1 & 0 & 0\\end{matrix}\\right], \\  \\left[\\begin{matrix}1 & 0 & 0 & 0\\\\0 & 1 & 0 & 0\\\\0 & 0 & -1 & 0\\\\0 & 0 & 0 & -1\\end{matrix}\\right]\\right]$"
      ],
      "text/plain": [
       "<IPython.core.display.Markdown object>"
      ]
     },
     "metadata": {},
     "output_type": "display_data"
    },
    {
     "name": "stdout",
     "output_type": "stream",
     "text": [
      "\n",
      " zu 2 \n",
      "\n",
      "fuer i = 1 :  True\n",
      "fuer i = 2 :  True\n",
      "fuer i = 3 :  True\n",
      "fuer beta  :  True \n",
      "\n"
     ]
    },
    {
     "data": {
      "text/markdown": [
       "$\\left[ \\left[\\begin{matrix}1 & 0 & 0 & 0\\\\0 & 1 & 0 & 0\\\\0 & 0 & 1 & 0\\\\0 & 0 & 0 & 1\\end{matrix}\\right], \\  \\left[\\begin{matrix}1 & 0 & 0 & 0\\\\0 & 1 & 0 & 0\\\\0 & 0 & 1 & 0\\\\0 & 0 & 0 & 1\\end{matrix}\\right], \\  \\left[\\begin{matrix}1 & 0 & 0 & 0\\\\0 & 1 & 0 & 0\\\\0 & 0 & 1 & 0\\\\0 & 0 & 0 & 1\\end{matrix}\\right], \\  \\left[\\begin{matrix}1 & 0 & 0 & 0\\\\0 & 1 & 0 & 0\\\\0 & 0 & 1 & 0\\\\0 & 0 & 0 & 1\\end{matrix}\\right]\\right]$"
      ],
      "text/plain": [
       "<IPython.core.display.Markdown object>"
      ]
     },
     "metadata": {},
     "output_type": "display_data"
    },
    {
     "name": "stdout",
     "output_type": "stream",
     "text": [
      "\n",
      " zu 3 \n",
      "\n",
      "fuer beta und i = 1 :  True\n",
      "fuer beta und i = 2 :  True\n",
      "fuer beta und i = 3 :  True\n",
      "\n",
      "\n"
     ]
    },
    {
     "data": {
      "text/markdown": [
       "$\\left[ \\left[\\begin{matrix}0 & 0 & 0 & 0\\\\0 & 0 & 0 & 0\\\\0 & 0 & 0 & 0\\\\0 & 0 & 0 & 0\\end{matrix}\\right], \\  \\left[\\begin{matrix}0 & 0 & 0 & 0\\\\0 & 0 & 0 & 0\\\\0 & 0 & 0 & 0\\\\0 & 0 & 0 & 0\\end{matrix}\\right], \\  \\left[\\begin{matrix}0 & 0 & 0 & 0\\\\0 & 0 & 0 & 0\\\\0 & 0 & 0 & 0\\\\0 & 0 & 0 & 0\\end{matrix}\\right]\\right]$"
      ],
      "text/plain": [
       "<IPython.core.display.Markdown object>"
      ]
     },
     "metadata": {},
     "output_type": "display_data"
    },
    {
     "name": "stdout",
     "output_type": "stream",
     "text": [
      "\n",
      "\n",
      "fuer i = 1, j = 2 :  True\n",
      "fuer i = 1, j = 3 :  True\n",
      "fuer i = 2, j = 3 :  True\n",
      "\n",
      "\n"
     ]
    },
    {
     "data": {
      "text/markdown": [
       "$\\left[ \\left[\\begin{matrix}0 & 0 & 0 & 0\\\\0 & 0 & 0 & 0\\\\0 & 0 & 0 & 0\\\\0 & 0 & 0 & 0\\end{matrix}\\right], \\  \\left[\\begin{matrix}0 & 0 & 0 & 0\\\\0 & 0 & 0 & 0\\\\0 & 0 & 0 & 0\\\\0 & 0 & 0 & 0\\end{matrix}\\right], \\  \\left[\\begin{matrix}0 & 0 & 0 & 0\\\\0 & 0 & 0 & 0\\\\0 & 0 & 0 & 0\\\\0 & 0 & 0 & 0\\end{matrix}\\right]\\right]$"
      ],
      "text/plain": [
       "<IPython.core.display.Markdown object>"
      ]
     },
     "metadata": {},
     "output_type": "display_data"
    }
   ],
   "source": [
    "from sympy.physics.matrices import msigma\n",
    "from sympy.matrices import Matrix, eye, zeros\n",
    "from sympy import I, sqrt, LeviCivita, KroneckerDelta\n",
    "\n",
    "alpha = []\n",
    "\n",
    "alpha.append(Matrix([[0,0,0,1],[0,0,1,0],[0,1,0,0],[1,0,0,0]]))\n",
    "alpha.append(Matrix([[0,0,0,-I],[0,0,I,0],[0,-I,0,0],[I,0,0,0]]))\n",
    "alpha.append(Matrix([[0,0,1,0],[0,0,0,-1],[1,0,0,0],[0,-1,0,0]]))\n",
    "alpha.append(Matrix([[1,0,0,0],[0,1,0,0],[0,0,-1,0],[0,0,0,-1]]))\n",
    "\n",
    "display(Markdown(rf\"${latex(alpha)}$\"))\n",
    "\n",
    "\n",
    "#1\n",
    "print('\\n zu 1 \\n')\n",
    "\n",
    "for i in range(3):\n",
    "    print('fuer i = {} : '.format(i+1), alpha[i] == alpha[i].adjugate())\n",
    "\n",
    "print('fuer beta  : ', alpha[3] == alpha[3].adjugate(), '\\n')\n",
    "\n",
    "display(Markdown(rf\"${latex([alpha[0].adjugate(),alpha[1].adjugate(),alpha[2].adjugate(),alpha[3].adjugate()])}$\"))\n",
    " \n",
    "    \n",
    "    \n",
    "#2\n",
    "print('\\n zu 2 \\n')\n",
    "\n",
    "for i in range(3):\n",
    "    print('fuer i = {} : '.format(i+1), alpha[i]**2 == eye(4))\n",
    "    \n",
    "print('fuer beta  : ', alpha[3]**2 == eye(4), '\\n')\n",
    "\n",
    "display(Markdown(rf\"${latex([alpha[0]**2,alpha[1]**2,alpha[2]**2,alpha[3]**2])}$\"))\n",
    "\n",
    "\n",
    "\n",
    "#3\n",
    "print('\\n zu 3 \\n')\n",
    "\n",
    "ab =[]\n",
    "a =[]\n",
    "\n",
    "for i in range(3):\n",
    "    \n",
    "    ab.append(alpha[i]*alpha[3] + alpha[3]*alpha[i])          \n",
    "    #display(Markdown(rf\"${latex(ab)}$\"))\n",
    "    print('fuer beta und i = {} : '.format(i+1), ab[i] == zeros(4))\n",
    "\n",
    "print('\\n')\n",
    "display(Markdown(rf\"${latex(ab)}$\")) \n",
    "print('\\n')\n",
    "    \n",
    "for i in range(3):\n",
    "    for j in range(i+1,3):\n",
    "        a.append(alpha[i]*alpha[j] + alpha[j]*alpha[i])      #Matritzen sind kommutativ in der Addition  \n",
    "        print('fuer i = {}, j = {} : '.format(i+1,j+1),a[i+j-1] == zeros(4)) \n",
    "\n",
    "print('\\n')        \n",
    "display(Markdown(rf\"${latex(a)}$\"))\n",
    "        \n"
   ]
  },
  {
   "cell_type": "code",
   "execution_count": null,
   "metadata": {},
   "outputs": [],
   "source": []
  }
 ],
 "metadata": {
  "kernelspec": {
   "display_name": "Python 3",
   "language": "python",
   "name": "python3"
  },
  "language_info": {
   "codemirror_mode": {
    "name": "ipython",
    "version": 3
   },
   "file_extension": ".py",
   "mimetype": "text/x-python",
   "name": "python",
   "nbconvert_exporter": "python",
   "pygments_lexer": "ipython3",
   "version": "3.7.4"
  }
 },
 "nbformat": 4,
 "nbformat_minor": 4
}
