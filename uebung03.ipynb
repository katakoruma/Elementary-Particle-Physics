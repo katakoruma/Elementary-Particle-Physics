{
 "cells": [
  {
   "cell_type": "markdown",
   "metadata": {},
   "source": [
    "<div>\n",
    "    <img alt=\"Logo\" src=\"https://www.institut3b.physik.rwth-aachen.de/global/show_picture.asp?id=aaaaaaaaaaivgdp\" style=\"float: right;height: 5em;\">\n",
    "</div>\n",
    "\n",
    "# Elementarteilchenphysik (SS 2021)\n",
    "\n",
    "apl. Prof. Dr. St. Roth, Dr. A. Nowack\\\n",
    "Physikzentrum, Raum 28 A 223, Tel.: 80-27282, eMail: nowack@physik.rwth-aachen.de "
   ]
  },
  {
   "cell_type": "markdown",
   "metadata": {},
   "source": [
    "# Übung 3\n",
    "\n",
    "Ausgabe: 5.5.2021\\\n",
    "Abgabe: 12.5.2021\n",
    " \n"
   ]
  },
  {
   "cell_type": "markdown",
   "metadata": {},
   "source": [
    "## Aufgabe 1: $\\gamma$-Matrizen\n",
    "\n",
    "Zeigen Sie mit Hilfe von SymPy die folgenden Eigenschaften der $\\gamma$-Matrizen in der Dirac-Darstellung\n",
    "$\\gamma^\\mu=\\left(\\beta,\\,\\beta\\,\\alpha_1,\\,\\beta\\,\\alpha_2,\\,\\beta\\,\\alpha_3\\right)$:\n",
    "\n",
    "1. Überprüfen Sie die Antikommutatorrelationen der $\\gamma$-Matrizen:\n",
    "\\begin{equation*}\n",
    "\\left\\{\\gamma^\\mu,\\, \\gamma^\\nu\\right\\} =  \\gamma^\\mu \\, \\gamma^\\nu +\n",
    "\\gamma^\\nu \\, \\gamma^\\mu = 2\\,g^{\\mu\\,\\nu}\\,\\mathbb{1},\\quad \\mu,\\,\\nu \\in\n",
    "\\left\\{0,1,2,3\\right\\}\n",
    "\\end{equation*}\n",
    "2. Zeigen Sie die Gültigkeit von:\n",
    "\\begin{eqnarray*}\n",
    "\\gamma^{\\mu\\,\\dagger} &=& \\gamma^0\\,\\gamma^\\mu\\,\\gamma^0,\\quad \\mu\\in\\left\\{0,1,2,3\\right\\}\\\\\n",
    "\\gamma^{0\\,\\dagger} &=& \\gamma^0\\\\\n",
    "\\gamma^{i\\,\\dagger} &=& -\\gamma^i,\\quad i\\in\\left\\{1,2,3\\right\\}\n",
    "\\end{eqnarray*}"
   ]
  },
  {
   "cell_type": "code",
   "execution_count": 1,
   "metadata": {},
   "outputs": [
    {
     "name": "stdout",
     "output_type": "stream",
     "text": [
      "Nr.1 \n",
      "\n",
      "fuer my = 0, ny = 0 :  True\n",
      "fuer my = 0, ny = 1 :  True\n",
      "fuer my = 0, ny = 2 :  True\n",
      "fuer my = 0, ny = 3 :  True\n",
      "fuer my = 1, ny = 1 :  True\n",
      "fuer my = 1, ny = 2 :  True\n",
      "fuer my = 1, ny = 3 :  True\n",
      "fuer my = 2, ny = 2 :  True\n",
      "fuer my = 2, ny = 3 :  True\n",
      "fuer my = 3, ny = 3 :  True\n",
      "\n",
      "\n"
     ]
    },
    {
     "data": {
      "text/markdown": [
       "$\\left[ \\left[\\begin{matrix}2 & 0 & 0 & 0\\\\0 & 2 & 0 & 0\\\\0 & 0 & 2 & 0\\\\0 & 0 & 0 & 2\\end{matrix}\\right], \\  \\left[\\begin{matrix}0 & 0 & 0 & 0\\\\0 & 0 & 0 & 0\\\\0 & 0 & 0 & 0\\\\0 & 0 & 0 & 0\\end{matrix}\\right], \\  \\left[\\begin{matrix}0 & 0 & 0 & 0\\\\0 & 0 & 0 & 0\\\\0 & 0 & 0 & 0\\\\0 & 0 & 0 & 0\\end{matrix}\\right], \\  \\left[\\begin{matrix}0 & 0 & 0 & 0\\\\0 & 0 & 0 & 0\\\\0 & 0 & 0 & 0\\\\0 & 0 & 0 & 0\\end{matrix}\\right], \\  \\left[\\begin{matrix}-2 & 0 & 0 & 0\\\\0 & -2 & 0 & 0\\\\0 & 0 & -2 & 0\\\\0 & 0 & 0 & -2\\end{matrix}\\right], \\  \\left[\\begin{matrix}0 & 0 & 0 & 0\\\\0 & 0 & 0 & 0\\\\0 & 0 & 0 & 0\\\\0 & 0 & 0 & 0\\end{matrix}\\right], \\  \\left[\\begin{matrix}0 & 0 & 0 & 0\\\\0 & 0 & 0 & 0\\\\0 & 0 & 0 & 0\\\\0 & 0 & 0 & 0\\end{matrix}\\right], \\  \\left[\\begin{matrix}-2 & 0 & 0 & 0\\\\0 & -2 & 0 & 0\\\\0 & 0 & -2 & 0\\\\0 & 0 & 0 & -2\\end{matrix}\\right], \\  \\left[\\begin{matrix}0 & 0 & 0 & 0\\\\0 & 0 & 0 & 0\\\\0 & 0 & 0 & 0\\\\0 & 0 & 0 & 0\\end{matrix}\\right], \\  \\left[\\begin{matrix}-2 & 0 & 0 & 0\\\\0 & -2 & 0 & 0\\\\0 & 0 & -2 & 0\\\\0 & 0 & 0 & -2\\end{matrix}\\right]\\right]$"
      ],
      "text/plain": [
       "<IPython.core.display.Markdown object>"
      ]
     },
     "metadata": {},
     "output_type": "display_data"
    },
    {
     "name": "stdout",
     "output_type": "stream",
     "text": [
      "\n",
      " Nr.2 \n",
      "\n",
      "fuer my = 0 :  True\n",
      "fuer my = 1 :  True\n",
      "fuer my = 2 :  True\n",
      "fuer my = 3 :  True\n",
      "\n",
      "\n"
     ]
    },
    {
     "data": {
      "text/markdown": [
       "$\\left[ \\left[\\begin{matrix}1 & 0 & 0 & 0\\\\0 & 1 & 0 & 0\\\\0 & 0 & -1 & 0\\\\0 & 0 & 0 & -1\\end{matrix}\\right], \\  \\left[\\begin{matrix}0 & 0 & 0 & 1\\\\0 & 0 & 1 & 0\\\\0 & -1 & 0 & 0\\\\-1 & 0 & 0 & 0\\end{matrix}\\right], \\  \\left[\\begin{matrix}0 & 0 & 0 & - i\\\\0 & 0 & i & 0\\\\0 & i & 0 & 0\\\\- i & 0 & 0 & 0\\end{matrix}\\right], \\  \\left[\\begin{matrix}0 & 0 & 1 & 0\\\\0 & 0 & 0 & -1\\\\-1 & 0 & 0 & 0\\\\0 & 1 & 0 & 0\\end{matrix}\\right]\\right]$"
      ],
      "text/plain": [
       "<IPython.core.display.Markdown object>"
      ]
     },
     "metadata": {},
     "output_type": "display_data"
    },
    {
     "name": "stdout",
     "output_type": "stream",
     "text": [
      "\n",
      " Nr.3 \n",
      "\n",
      "fuer i = 0 :  True\n",
      "\n",
      "\n"
     ]
    },
    {
     "data": {
      "text/markdown": [
       "$\\left[\\begin{matrix}1 & 0 & 0 & 0\\\\0 & 1 & 0 & 0\\\\0 & 0 & -1 & 0\\\\0 & 0 & 0 & -1\\end{matrix}\\right]$"
      ],
      "text/plain": [
       "<IPython.core.display.Markdown object>"
      ]
     },
     "metadata": {},
     "output_type": "display_data"
    },
    {
     "name": "stdout",
     "output_type": "stream",
     "text": [
      "\n",
      " Nr.4 \n",
      "\n",
      "fuer i = 1 :  True\n",
      "fuer i = 2 :  True\n",
      "fuer i = 3 :  True\n",
      "\n",
      "\n"
     ]
    },
    {
     "data": {
      "text/markdown": [
       "$\\left[ \\left[\\begin{matrix}0 & 0 & 0 & 1\\\\0 & 0 & 1 & 0\\\\0 & -1 & 0 & 0\\\\-1 & 0 & 0 & 0\\end{matrix}\\right], \\  \\left[\\begin{matrix}0 & 0 & 0 & - i\\\\0 & 0 & i & 0\\\\0 & i & 0 & 0\\\\- i & 0 & 0 & 0\\end{matrix}\\right], \\  \\left[\\begin{matrix}0 & 0 & 1 & 0\\\\0 & 0 & 0 & -1\\\\-1 & 0 & 0 & 0\\\\0 & 1 & 0 & 0\\end{matrix}\\right]\\right]$"
      ],
      "text/plain": [
       "<IPython.core.display.Markdown object>"
      ]
     },
     "metadata": {},
     "output_type": "display_data"
    },
    {
     "name": "stdout",
     "output_type": "stream",
     "text": [
      "\n",
      "\n"
     ]
    }
   ],
   "source": [
    "from sympy import Matrix, pprint, I, ones, eye, expand, simplify, diag\n",
    "from sympy.physics.matrices import msigma, mgamma\n",
    "from sympy import latex\n",
    "from IPython.display import display, Markdown\n",
    "\n",
    "print('Nr.1 \\n')\n",
    "\n",
    "#1\n",
    "\n",
    "g = diag(1, -1, -1, -1)\n",
    "a = []\n",
    "k = 0\n",
    "\n",
    "for i in range(4):\n",
    "    for j in range(i,4):\n",
    "        \n",
    "        a.append(mgamma(i,True) * mgamma(j,True) + mgamma(j,True) * mgamma(i,True))      #Matritzen sind kommutativ in der Addition  \n",
    "        print('fuer my = {}, ny = {} : '.format(i,j),a[k] == 2* g[i,j]*eye(4)) \n",
    "        \n",
    "        k += 1\n",
    "\n",
    "print('\\n')\n",
    "display(Markdown(rf\"${latex(a)}$\"))\n",
    "print('\\n Nr.2 \\n')\n",
    "\n",
    "#2\n",
    "\n",
    "a = []\n",
    "k = 0\n",
    "\n",
    "for i in range(4):\n",
    "    \n",
    "    a.append(mgamma(i,True).H)\n",
    "    print('fuer my = {} : '.format(i),a[k] == mgamma(0,True) * mgamma(i,True) * mgamma(0,True)) \n",
    "\n",
    "    k += 1\n",
    "\n",
    "print('\\n')\n",
    "display(Markdown(rf\"${latex(a)}$\"))\n",
    "print('\\n Nr.3 \\n')\n",
    "\n",
    "\n",
    "#3\n",
    "\n",
    "print('fuer i = 0 : '.format(i),mgamma(0,True).H == mgamma(0,True))\n",
    "\n",
    "print('\\n')    \n",
    "display(Markdown(rf\"${latex(mgamma(0,True))}$\"))\n",
    "print('\\n Nr.4 \\n')\n",
    "\n",
    "#4\n",
    "\n",
    "a = []\n",
    "k = 0\n",
    "\n",
    "for i in range(1,4):\n",
    "    \n",
    "    a.append(mgamma(i,True).H)\n",
    "    print('fuer i = {} : '.format(i),a[k] == -mgamma(i,True)) \n",
    "\n",
    "    k += 1\n",
    "print('\\n')    \n",
    "display(Markdown(rf\"${latex(a)}$\"))\n",
    "print('\\n')"
   ]
  },
  {
   "cell_type": "markdown",
   "metadata": {},
   "source": [
    "## Aufgabe 2*: Dirac-Spinoren und Klein-Gordon-Gleichung (freiwillig)\n",
    "\n",
    "Zeigen Sie, dass jede Komponente eines Dirac-Spinors die\n",
    "Klein-Gordon-Gleichung erfüllt. Multiplizieren Sie dazu die\n",
    "Dirac-Gleichung von links mit $\\gamma^\\nu\\,\\partial_\\nu$, und benutzen\n",
    "Sie die Antivertauschungsrelationen der $\\gamma$-Matrizen.\n",
    "\n",
    "Am einfachsten ist es, diese Aufgabe ohne Verwendung von SymPy zu lösen.\n"
   ]
  },
  {
   "cell_type": "markdown",
   "metadata": {},
   "source": []
  }
 ],
 "metadata": {
  "kernelspec": {
   "display_name": "Python 3",
   "language": "python",
   "name": "python3"
  },
  "language_info": {
   "codemirror_mode": {
    "name": "ipython",
    "version": 3
   },
   "file_extension": ".py",
   "mimetype": "text/x-python",
   "name": "python",
   "nbconvert_exporter": "python",
   "pygments_lexer": "ipython3",
   "version": "3.7.4"
  }
 },
 "nbformat": 4,
 "nbformat_minor": 4
}
