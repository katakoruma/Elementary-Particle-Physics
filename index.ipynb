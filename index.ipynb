{
 "cells": [
  {
   "cell_type": "markdown",
   "metadata": {},
   "source": [
    "<div>\n",
    "    <img alt=\"Logo\" src=\"https://www.institut3b.physik.rwth-aachen.de/global/show_picture.asp?id=aaaaaaaaaaivgdp\" style=\"float: right;height: 5em;\">\n",
    "</div>\n",
    "\n",
    "# Elementarteilchenphysik (SS 2021)\n",
    "\n",
    "apl. Prof. Dr. St. Roth, Dr. A. Nowack\\\n",
    "Physikzentrum, Raum 28 A 223, Tel.: 80-27282, eMail: nowack@physik.rwth-aachen.de "
   ]
  },
  {
   "cell_type": "markdown",
   "metadata": {},
   "source": [
    "# Kurzanleitung: Jupyter\n",
    "\n",
    "* Einzelne Zelle ausführen: <i class=\"fa fa-play\"></i>-Knopf oder `Shift`+`Enter`\n",
    "* Alle Zellen im Notebook ausführen: Menü `Run`<i class=\"fa fa-chevron-right\"></i>`Run All Cells`\n",
    "* Zum Neustart des Kernels (alle Variablen löschen): <i class=\"fa fa-repeat\"></i>-Knopf\n",
    "* **Datensicherung:** Es ist empfohlen, die bearbeiteten Dateien am Ende über die Dateiliste auf der linken Seite herunterzuladen (Rechtsklick auf Datei, dann <i class=\"fa fa-arrow-down\"></i>`Download`)."
   ]
  },
  {
   "cell_type": "markdown",
   "metadata": {},
   "source": [
    "# Inhaltsverzeichnis\n",
    "\n",
    "| Übungsblatt               | Ausgabedatum | Abgabedatum  | Thema  \n",
    "|---------------------------|--------------|--------------|--------------------------------------------\n",
    "| [Beispiel](beispiel.ipynb)|  14.04.2021  |              | [Einführung](https://moodle.rwth-aachen.de/course/view.php?id=14872#section-1)\n",
    "| [Übung 1](uebung01.ipynb) |  21.04.2021  |  28.04.2021  | [Einführung](https://moodle.rwth-aachen.de/course/view.php?id=14872#section-1), [Relativistische Wellengleichungen](https://moodle.rwth-aachen.de/course/view.php?id=14872#section-2)\n",
    "| [Übung 2](uebung02.ipynb) |  28.04.2021  |  05.05.2021  | [Nichtrelativistische Fermionen](https://moodle.rwth-aachen.de/course/view.php?id=14872#section-3)\n",
    "| [Übung 3](uebung03.ipynb) |  05.05.2021  |  12.05.2021  | [Vierer-Vektoren und Spinoren](https://moodle.rwth-aachen.de/course/view.php?id=14872#section-4)\n",
    "| [Übung 4](uebung04.ipynb) |  12.05.2021  |  19.05.2021  | [Vierer-Vektoren und Spinoren](https://moodle.rwth-aachen.de/course/view.php?id=14872#section-4)\n",
    "| [Übung 5](uebung05.ipynb) |  19.05.2021  |  02.06.2021  | [Lorentz-Transformation](https://moodle.rwth-aachen.de/course/view.php?id=14872#section-5)\n",
    "| [Übung 6](uebung06.ipynb) |  02.06.2021  |  16.06.2021  | [Störungsrechnung](https://moodle.rwth-aachen.de/course/view.php?id=14872#section-6), [Coulomb-Streuung von Elektronen](https://moodle.rwth-aachen.de/course/view.php?id=14872#section-7)\n",
    "|  Übung 7                  |  16.06.2021  |  23.06.2021  | [Coulomb-Streuung von Elektronen](https://moodle.rwth-aachen.de/course/view.php?id=14872#section-7)\n",
    "|  Übung 8                  |  23.06.2021  |  30.06.2021  | [Elektron-Fermion-Streuung](https://moodle.rwth-aachen.de/course/view.php?id=14872#section-8)\n",
    "|  Übung 9                  |  30.06.2021  |  07.07.2021  | [Neutrino-Lepton-Streuung](https://moodle.rwth-aachen.de/course/view.php?id=14872#section-9)\n",
    "|  Übung 10                 |  07.07.2021  |  14.07.2021  | [Monte-Carlo-Methoden](https://moodle.rwth-aachen.de/course/view.php?id=14872#section-10)\n",
    "|  Übung 11                 |  14.07.2021  |  21.07.2021  | [Monte-Carlo-Methoden](https://moodle.rwth-aachen.de/course/view.php?id=14872#section-10)\n",
    "\n"
   ]
  },
  {
   "cell_type": "markdown",
   "metadata": {},
   "source": [
    " "
   ]
  }
 ],
 "metadata": {
  "kernelspec": {
   "display_name": "Python 3",
   "language": "python",
   "name": "python3"
  },
  "language_info": {
   "codemirror_mode": {
    "name": "ipython",
    "version": 3
   },
   "file_extension": ".py",
   "mimetype": "text/x-python",
   "name": "python",
   "nbconvert_exporter": "python",
   "pygments_lexer": "ipython3",
   "version": "3.7.4"
  }
 },
 "nbformat": 4,
 "nbformat_minor": 4
}
